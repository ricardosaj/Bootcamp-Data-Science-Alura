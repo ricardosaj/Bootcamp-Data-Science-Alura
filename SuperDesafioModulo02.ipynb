{
  "nbformat": 4,
  "nbformat_minor": 0,
  "metadata": {
    "colab": {
      "name": "SuperDesafioModulo02.ipynb",
      "provenance": [],
      "collapsed_sections": [],
      "authorship_tag": "ABX9TyOEIpKLwqdXsM76Ozv+kXmu",
      "include_colab_link": true
    },
    "kernelspec": {
      "name": "python3",
      "display_name": "Python 3"
    },
    "language_info": {
      "name": "python"
    }
  },
  "cells": [
    {
      "cell_type": "markdown",
      "metadata": {
        "id": "view-in-github",
        "colab_type": "text"
      },
      "source": [
        "<a href=\"https://colab.research.google.com/github/ricardosaj/Bootcamp-Data-Science-Alura/blob/ricardosaj-superdesafio02_bootcampDS_Alura/SuperDesafioModulo02.ipynb\" target=\"_parent\"><img src=\"https://colab.research.google.com/assets/colab-badge.svg\" alt=\"Open In Colab\"/></a>"
      ]
    },
    {
      "cell_type": "code",
      "metadata": {
        "id": "CR9EFv5lXBkq"
      },
      "source": [
        "import pandas as pd\n",
        "import seaborn as sns\n",
        "import matplotlib.pyplot as plt\n",
        "import numpy as np"
      ],
      "execution_count": 1,
      "outputs": []
    },
    {
      "cell_type": "code",
      "metadata": {
        "colab": {
          "base_uri": "https://localhost:8080/",
          "height": 713
        },
        "id": "P2tq8icYXI7R",
        "outputId": "53378d79-03ef-447b-82c4-e424cad545cf"
      },
      "source": [
        "dados = pd.read_csv(\"https://raw.githubusercontent.com/ricardosaj/Bootcamp-Data-Science-Alura/main/vacinas_por_regiao_2000_a_2019_2.csv\",\n",
        "                    encoding=\"ISO-8859-1\", \n",
        "                    skiprows = 3, sep=\";\", skipfooter=20,\n",
        "                    thousands=\".\", decimal=\",\")\n",
        "dados"
      ],
      "execution_count": 2,
      "outputs": [
        {
          "output_type": "stream",
          "name": "stderr",
          "text": [
            "/usr/local/lib/python3.7/dist-packages/ipykernel_launcher.py:4: ParserWarning: Falling back to the 'python' engine because the 'c' engine does not support skipfooter; you can avoid this warning by specifying engine='python'.\n",
            "  after removing the cwd from sys.path.\n"
          ]
        },
        {
          "output_type": "execute_result",
          "data": {
            "text/html": [
              "<div>\n",
              "<style scoped>\n",
              "    .dataframe tbody tr th:only-of-type {\n",
              "        vertical-align: middle;\n",
              "    }\n",
              "\n",
              "    .dataframe tbody tr th {\n",
              "        vertical-align: top;\n",
              "    }\n",
              "\n",
              "    .dataframe thead th {\n",
              "        text-align: right;\n",
              "    }\n",
              "</style>\n",
              "<table border=\"1\" class=\"dataframe\">\n",
              "  <thead>\n",
              "    <tr style=\"text-align: right;\">\n",
              "      <th></th>\n",
              "      <th>Ano</th>\n",
              "      <th>RO</th>\n",
              "      <th>AC</th>\n",
              "      <th>AM</th>\n",
              "      <th>RR</th>\n",
              "      <th>PA</th>\n",
              "      <th>AP</th>\n",
              "      <th>TO</th>\n",
              "      <th>MA</th>\n",
              "      <th>PI</th>\n",
              "      <th>CE</th>\n",
              "      <th>RN</th>\n",
              "      <th>PB</th>\n",
              "      <th>PE</th>\n",
              "      <th>AL</th>\n",
              "      <th>SE</th>\n",
              "      <th>BA</th>\n",
              "      <th>MG</th>\n",
              "      <th>ES</th>\n",
              "      <th>RJ</th>\n",
              "      <th>SP</th>\n",
              "      <th>PR</th>\n",
              "      <th>SC</th>\n",
              "      <th>RS</th>\n",
              "      <th>MS</th>\n",
              "      <th>MT</th>\n",
              "      <th>GO</th>\n",
              "      <th>DF</th>\n",
              "      <th>Total</th>\n",
              "    </tr>\n",
              "  </thead>\n",
              "  <tbody>\n",
              "    <tr>\n",
              "      <th>0</th>\n",
              "      <td>2000</td>\n",
              "      <td>595405</td>\n",
              "      <td>245193</td>\n",
              "      <td>1198384</td>\n",
              "      <td>187080</td>\n",
              "      <td>2886309</td>\n",
              "      <td>232258</td>\n",
              "      <td>557200</td>\n",
              "      <td>2453795</td>\n",
              "      <td>1208893</td>\n",
              "      <td>3403095</td>\n",
              "      <td>1048720</td>\n",
              "      <td>1381868</td>\n",
              "      <td>3297620</td>\n",
              "      <td>1196604</td>\n",
              "      <td>796246</td>\n",
              "      <td>5131168</td>\n",
              "      <td>6961244</td>\n",
              "      <td>1214667</td>\n",
              "      <td>5385808</td>\n",
              "      <td>13842017</td>\n",
              "      <td>3750742</td>\n",
              "      <td>1908182</td>\n",
              "      <td>3539671</td>\n",
              "      <td>896172</td>\n",
              "      <td>1091090</td>\n",
              "      <td>2040674</td>\n",
              "      <td>820415</td>\n",
              "      <td>67270520</td>\n",
              "    </tr>\n",
              "    <tr>\n",
              "      <th>1</th>\n",
              "      <td>2001</td>\n",
              "      <td>634672</td>\n",
              "      <td>281863</td>\n",
              "      <td>1327220</td>\n",
              "      <td>162704</td>\n",
              "      <td>3182573</td>\n",
              "      <td>342676</td>\n",
              "      <td>591184</td>\n",
              "      <td>2754985</td>\n",
              "      <td>1260538</td>\n",
              "      <td>3464853</td>\n",
              "      <td>1074655</td>\n",
              "      <td>1463207</td>\n",
              "      <td>3308789</td>\n",
              "      <td>1247844</td>\n",
              "      <td>804610</td>\n",
              "      <td>5641897</td>\n",
              "      <td>7888036</td>\n",
              "      <td>1233262</td>\n",
              "      <td>5263389</td>\n",
              "      <td>13526097</td>\n",
              "      <td>3771473</td>\n",
              "      <td>1929301</td>\n",
              "      <td>3605219</td>\n",
              "      <td>937187</td>\n",
              "      <td>1089117</td>\n",
              "      <td>2069557</td>\n",
              "      <td>798164</td>\n",
              "      <td>69655072</td>\n",
              "    </tr>\n",
              "    <tr>\n",
              "      <th>2</th>\n",
              "      <td>2002</td>\n",
              "      <td>603409</td>\n",
              "      <td>309201</td>\n",
              "      <td>1360736</td>\n",
              "      <td>171102</td>\n",
              "      <td>3209151</td>\n",
              "      <td>256112</td>\n",
              "      <td>557207</td>\n",
              "      <td>2714036</td>\n",
              "      <td>1247873</td>\n",
              "      <td>3335843</td>\n",
              "      <td>1068538</td>\n",
              "      <td>1404985</td>\n",
              "      <td>3296188</td>\n",
              "      <td>1287595</td>\n",
              "      <td>774545</td>\n",
              "      <td>5316305</td>\n",
              "      <td>6637190</td>\n",
              "      <td>1176631</td>\n",
              "      <td>5118198</td>\n",
              "      <td>12763696</td>\n",
              "      <td>3547068</td>\n",
              "      <td>1808394</td>\n",
              "      <td>3443527</td>\n",
              "      <td>856199</td>\n",
              "      <td>1056545</td>\n",
              "      <td>2055137</td>\n",
              "      <td>760178</td>\n",
              "      <td>66135589</td>\n",
              "    </tr>\n",
              "    <tr>\n",
              "      <th>3</th>\n",
              "      <td>2003</td>\n",
              "      <td>567875</td>\n",
              "      <td>300787</td>\n",
              "      <td>1270370</td>\n",
              "      <td>168107</td>\n",
              "      <td>3183958</td>\n",
              "      <td>263949</td>\n",
              "      <td>529390</td>\n",
              "      <td>2698158</td>\n",
              "      <td>1175552</td>\n",
              "      <td>3134287</td>\n",
              "      <td>1044353</td>\n",
              "      <td>1320266</td>\n",
              "      <td>3220240</td>\n",
              "      <td>1217980</td>\n",
              "      <td>744964</td>\n",
              "      <td>5128938</td>\n",
              "      <td>6206032</td>\n",
              "      <td>1155743</td>\n",
              "      <td>4888554</td>\n",
              "      <td>12355211</td>\n",
              "      <td>3317332</td>\n",
              "      <td>1767949</td>\n",
              "      <td>3280867</td>\n",
              "      <td>814843</td>\n",
              "      <td>1014615</td>\n",
              "      <td>1978045</td>\n",
              "      <td>776852</td>\n",
              "      <td>63525217</td>\n",
              "    </tr>\n",
              "    <tr>\n",
              "      <th>4</th>\n",
              "      <td>2004</td>\n",
              "      <td>732052</td>\n",
              "      <td>378766</td>\n",
              "      <td>1581187</td>\n",
              "      <td>220949</td>\n",
              "      <td>4313926</td>\n",
              "      <td>342556</td>\n",
              "      <td>641107</td>\n",
              "      <td>3305897</td>\n",
              "      <td>1494494</td>\n",
              "      <td>3773711</td>\n",
              "      <td>1312706</td>\n",
              "      <td>1667647</td>\n",
              "      <td>3926773</td>\n",
              "      <td>1700397</td>\n",
              "      <td>897079</td>\n",
              "      <td>7135200</td>\n",
              "      <td>7495444</td>\n",
              "      <td>1412016</td>\n",
              "      <td>5935843</td>\n",
              "      <td>14952220</td>\n",
              "      <td>4267323</td>\n",
              "      <td>2101818</td>\n",
              "      <td>3875775</td>\n",
              "      <td>971764</td>\n",
              "      <td>1286775</td>\n",
              "      <td>2634225</td>\n",
              "      <td>985282</td>\n",
              "      <td>79342932</td>\n",
              "    </tr>\n",
              "    <tr>\n",
              "      <th>5</th>\n",
              "      <td>2005</td>\n",
              "      <td>698279</td>\n",
              "      <td>353552</td>\n",
              "      <td>1613814</td>\n",
              "      <td>210400</td>\n",
              "      <td>3928530</td>\n",
              "      <td>323676</td>\n",
              "      <td>633116</td>\n",
              "      <td>3300894</td>\n",
              "      <td>1380359</td>\n",
              "      <td>3637003</td>\n",
              "      <td>1208144</td>\n",
              "      <td>1591982</td>\n",
              "      <td>3728745</td>\n",
              "      <td>1442279</td>\n",
              "      <td>838923</td>\n",
              "      <td>6057144</td>\n",
              "      <td>7335918</td>\n",
              "      <td>1337730</td>\n",
              "      <td>5737326</td>\n",
              "      <td>14359891</td>\n",
              "      <td>3820725</td>\n",
              "      <td>2049994</td>\n",
              "      <td>3626787</td>\n",
              "      <td>945137</td>\n",
              "      <td>1266069</td>\n",
              "      <td>2339329</td>\n",
              "      <td>954613</td>\n",
              "      <td>74720359</td>\n",
              "    </tr>\n",
              "    <tr>\n",
              "      <th>6</th>\n",
              "      <td>2006</td>\n",
              "      <td>702254</td>\n",
              "      <td>349014</td>\n",
              "      <td>1685221</td>\n",
              "      <td>207007</td>\n",
              "      <td>4003528</td>\n",
              "      <td>326160</td>\n",
              "      <td>648132</td>\n",
              "      <td>3338694</td>\n",
              "      <td>1409417</td>\n",
              "      <td>3555125</td>\n",
              "      <td>1214854</td>\n",
              "      <td>1585239</td>\n",
              "      <td>3749519</td>\n",
              "      <td>1399699</td>\n",
              "      <td>867588</td>\n",
              "      <td>5968643</td>\n",
              "      <td>7275695</td>\n",
              "      <td>1350601</td>\n",
              "      <td>5590987</td>\n",
              "      <td>14512994</td>\n",
              "      <td>3912713</td>\n",
              "      <td>2095555</td>\n",
              "      <td>3604845</td>\n",
              "      <td>974966</td>\n",
              "      <td>1239094</td>\n",
              "      <td>2366568</td>\n",
              "      <td>989724</td>\n",
              "      <td>74923836</td>\n",
              "    </tr>\n",
              "    <tr>\n",
              "      <th>7</th>\n",
              "      <td>2007</td>\n",
              "      <td>671022</td>\n",
              "      <td>386861</td>\n",
              "      <td>1704003</td>\n",
              "      <td>218408</td>\n",
              "      <td>3997712</td>\n",
              "      <td>326178</td>\n",
              "      <td>647636</td>\n",
              "      <td>3478280</td>\n",
              "      <td>1409679</td>\n",
              "      <td>3578539</td>\n",
              "      <td>1211525</td>\n",
              "      <td>1612476</td>\n",
              "      <td>3819635</td>\n",
              "      <td>1361961</td>\n",
              "      <td>905294</td>\n",
              "      <td>5877705</td>\n",
              "      <td>7274762</td>\n",
              "      <td>1342801</td>\n",
              "      <td>5644703</td>\n",
              "      <td>14465201</td>\n",
              "      <td>3938642</td>\n",
              "      <td>2082713</td>\n",
              "      <td>3507487</td>\n",
              "      <td>987297</td>\n",
              "      <td>1263603</td>\n",
              "      <td>2428428</td>\n",
              "      <td>1035290</td>\n",
              "      <td>75177841</td>\n",
              "    </tr>\n",
              "    <tr>\n",
              "      <th>8</th>\n",
              "      <td>2008</td>\n",
              "      <td>670070</td>\n",
              "      <td>379638</td>\n",
              "      <td>1647149</td>\n",
              "      <td>203350</td>\n",
              "      <td>3856972</td>\n",
              "      <td>319122</td>\n",
              "      <td>625972</td>\n",
              "      <td>3335303</td>\n",
              "      <td>1340657</td>\n",
              "      <td>3408148</td>\n",
              "      <td>1169816</td>\n",
              "      <td>1554440</td>\n",
              "      <td>3657438</td>\n",
              "      <td>1306284</td>\n",
              "      <td>879278</td>\n",
              "      <td>5676499</td>\n",
              "      <td>7066647</td>\n",
              "      <td>1312947</td>\n",
              "      <td>5418391</td>\n",
              "      <td>14273089</td>\n",
              "      <td>3806543</td>\n",
              "      <td>2073138</td>\n",
              "      <td>3417420</td>\n",
              "      <td>974861</td>\n",
              "      <td>1225930</td>\n",
              "      <td>2322350</td>\n",
              "      <td>1000883</td>\n",
              "      <td>72922335</td>\n",
              "    </tr>\n",
              "    <tr>\n",
              "      <th>9</th>\n",
              "      <td>2009</td>\n",
              "      <td>681503</td>\n",
              "      <td>390602</td>\n",
              "      <td>1703841</td>\n",
              "      <td>225293</td>\n",
              "      <td>3699454</td>\n",
              "      <td>354299</td>\n",
              "      <td>629942</td>\n",
              "      <td>3299816</td>\n",
              "      <td>1344452</td>\n",
              "      <td>3436035</td>\n",
              "      <td>1208269</td>\n",
              "      <td>1576092</td>\n",
              "      <td>3740084</td>\n",
              "      <td>1393230</td>\n",
              "      <td>873594</td>\n",
              "      <td>5812462</td>\n",
              "      <td>7223274</td>\n",
              "      <td>1327848</td>\n",
              "      <td>5589928</td>\n",
              "      <td>14739743</td>\n",
              "      <td>3934622</td>\n",
              "      <td>2135501</td>\n",
              "      <td>3480942</td>\n",
              "      <td>1023854</td>\n",
              "      <td>1232897</td>\n",
              "      <td>2351035</td>\n",
              "      <td>1002519</td>\n",
              "      <td>74411131</td>\n",
              "    </tr>\n",
              "    <tr>\n",
              "      <th>10</th>\n",
              "      <td>2010</td>\n",
              "      <td>647582</td>\n",
              "      <td>375827</td>\n",
              "      <td>1658753</td>\n",
              "      <td>216961</td>\n",
              "      <td>3535221</td>\n",
              "      <td>318085</td>\n",
              "      <td>599042</td>\n",
              "      <td>3420909</td>\n",
              "      <td>1274272</td>\n",
              "      <td>3358407</td>\n",
              "      <td>1176268</td>\n",
              "      <td>1547527</td>\n",
              "      <td>3579686</td>\n",
              "      <td>1310661</td>\n",
              "      <td>851030</td>\n",
              "      <td>5651502</td>\n",
              "      <td>7414886</td>\n",
              "      <td>1318686</td>\n",
              "      <td>5397199</td>\n",
              "      <td>14671666</td>\n",
              "      <td>3911435</td>\n",
              "      <td>2158029</td>\n",
              "      <td>3411391</td>\n",
              "      <td>993508</td>\n",
              "      <td>1151191</td>\n",
              "      <td>2274623</td>\n",
              "      <td>977874</td>\n",
              "      <td>73202221</td>\n",
              "    </tr>\n",
              "    <tr>\n",
              "      <th>11</th>\n",
              "      <td>2011</td>\n",
              "      <td>435345</td>\n",
              "      <td>257132</td>\n",
              "      <td>1090240</td>\n",
              "      <td>146403</td>\n",
              "      <td>2159285</td>\n",
              "      <td>200416</td>\n",
              "      <td>393544</td>\n",
              "      <td>1938353</td>\n",
              "      <td>790815</td>\n",
              "      <td>1973183</td>\n",
              "      <td>715550</td>\n",
              "      <td>894610</td>\n",
              "      <td>2264640</td>\n",
              "      <td>736926</td>\n",
              "      <td>530191</td>\n",
              "      <td>3319588</td>\n",
              "      <td>4334695</td>\n",
              "      <td>818355</td>\n",
              "      <td>3271147</td>\n",
              "      <td>9151228</td>\n",
              "      <td>2415754</td>\n",
              "      <td>1322747</td>\n",
              "      <td>1972214</td>\n",
              "      <td>647692</td>\n",
              "      <td>762483</td>\n",
              "      <td>1515006</td>\n",
              "      <td>582929</td>\n",
              "      <td>44640471</td>\n",
              "    </tr>\n",
              "    <tr>\n",
              "      <th>12</th>\n",
              "      <td>2012</td>\n",
              "      <td>427785</td>\n",
              "      <td>240469</td>\n",
              "      <td>1149204</td>\n",
              "      <td>134478</td>\n",
              "      <td>2120596</td>\n",
              "      <td>201291</td>\n",
              "      <td>364498</td>\n",
              "      <td>1834049</td>\n",
              "      <td>767241</td>\n",
              "      <td>1875068</td>\n",
              "      <td>700617</td>\n",
              "      <td>815971</td>\n",
              "      <td>2122509</td>\n",
              "      <td>747338</td>\n",
              "      <td>503959</td>\n",
              "      <td>3222132</td>\n",
              "      <td>3998586</td>\n",
              "      <td>783980</td>\n",
              "      <td>3034612</td>\n",
              "      <td>8821199</td>\n",
              "      <td>2330836</td>\n",
              "      <td>1277068</td>\n",
              "      <td>1861452</td>\n",
              "      <td>639969</td>\n",
              "      <td>754284</td>\n",
              "      <td>1375687</td>\n",
              "      <td>615304</td>\n",
              "      <td>42720182</td>\n",
              "    </tr>\n",
              "    <tr>\n",
              "      <th>13</th>\n",
              "      <td>2013</td>\n",
              "      <td>487788</td>\n",
              "      <td>240916</td>\n",
              "      <td>1173912</td>\n",
              "      <td>137917</td>\n",
              "      <td>2217128</td>\n",
              "      <td>235158</td>\n",
              "      <td>419059</td>\n",
              "      <td>2049197</td>\n",
              "      <td>830563</td>\n",
              "      <td>2162076</td>\n",
              "      <td>739553</td>\n",
              "      <td>963126</td>\n",
              "      <td>2334099</td>\n",
              "      <td>840673</td>\n",
              "      <td>600576</td>\n",
              "      <td>3568011</td>\n",
              "      <td>4784266</td>\n",
              "      <td>882253</td>\n",
              "      <td>3452853</td>\n",
              "      <td>10297960</td>\n",
              "      <td>2728430</td>\n",
              "      <td>1467668</td>\n",
              "      <td>2326594</td>\n",
              "      <td>792827</td>\n",
              "      <td>882673</td>\n",
              "      <td>1637161</td>\n",
              "      <td>858143</td>\n",
              "      <td>49110580</td>\n",
              "    </tr>\n",
              "    <tr>\n",
              "      <th>14</th>\n",
              "      <td>2014</td>\n",
              "      <td>664623</td>\n",
              "      <td>254867</td>\n",
              "      <td>1546920</td>\n",
              "      <td>223255</td>\n",
              "      <td>2577588</td>\n",
              "      <td>291264</td>\n",
              "      <td>520696</td>\n",
              "      <td>2506954</td>\n",
              "      <td>929808</td>\n",
              "      <td>3097412</td>\n",
              "      <td>976055</td>\n",
              "      <td>1185760</td>\n",
              "      <td>3098012</td>\n",
              "      <td>1124168</td>\n",
              "      <td>733179</td>\n",
              "      <td>4552090</td>\n",
              "      <td>5908170</td>\n",
              "      <td>1221179</td>\n",
              "      <td>4792974</td>\n",
              "      <td>13755784</td>\n",
              "      <td>3393790</td>\n",
              "      <td>2047870</td>\n",
              "      <td>2980144</td>\n",
              "      <td>1186794</td>\n",
              "      <td>1204418</td>\n",
              "      <td>2068419</td>\n",
              "      <td>1000131</td>\n",
              "      <td>63842324</td>\n",
              "    </tr>\n",
              "    <tr>\n",
              "      <th>15</th>\n",
              "      <td>2015</td>\n",
              "      <td>692060</td>\n",
              "      <td>294119</td>\n",
              "      <td>1721877</td>\n",
              "      <td>261569</td>\n",
              "      <td>2121121</td>\n",
              "      <td>317476</td>\n",
              "      <td>500465</td>\n",
              "      <td>2470155</td>\n",
              "      <td>843986</td>\n",
              "      <td>3090798</td>\n",
              "      <td>955413</td>\n",
              "      <td>1091866</td>\n",
              "      <td>3270650</td>\n",
              "      <td>1114133</td>\n",
              "      <td>714208</td>\n",
              "      <td>4326712</td>\n",
              "      <td>5849587</td>\n",
              "      <td>1220295</td>\n",
              "      <td>4947569</td>\n",
              "      <td>13859265</td>\n",
              "      <td>3425656</td>\n",
              "      <td>2066422</td>\n",
              "      <td>2808159</td>\n",
              "      <td>1097563</td>\n",
              "      <td>1218562</td>\n",
              "      <td>2012864</td>\n",
              "      <td>732494</td>\n",
              "      <td>63025044</td>\n",
              "    </tr>\n",
              "    <tr>\n",
              "      <th>16</th>\n",
              "      <td>2016</td>\n",
              "      <td>619782</td>\n",
              "      <td>259444</td>\n",
              "      <td>1404249</td>\n",
              "      <td>223781</td>\n",
              "      <td>1986047</td>\n",
              "      <td>309878</td>\n",
              "      <td>473930</td>\n",
              "      <td>1768910</td>\n",
              "      <td>766717</td>\n",
              "      <td>2772563</td>\n",
              "      <td>715152</td>\n",
              "      <td>933768</td>\n",
              "      <td>2643965</td>\n",
              "      <td>871125</td>\n",
              "      <td>550085</td>\n",
              "      <td>3231420</td>\n",
              "      <td>5192087</td>\n",
              "      <td>1018857</td>\n",
              "      <td>4269415</td>\n",
              "      <td>10615615</td>\n",
              "      <td>2978313</td>\n",
              "      <td>1789983</td>\n",
              "      <td>2601252</td>\n",
              "      <td>937525</td>\n",
              "      <td>1117107</td>\n",
              "      <td>1808414</td>\n",
              "      <td>1331740</td>\n",
              "      <td>53191124</td>\n",
              "    </tr>\n",
              "    <tr>\n",
              "      <th>17</th>\n",
              "      <td>2017</td>\n",
              "      <td>580329</td>\n",
              "      <td>265563</td>\n",
              "      <td>1412102</td>\n",
              "      <td>223177</td>\n",
              "      <td>2067185</td>\n",
              "      <td>240586</td>\n",
              "      <td>496697</td>\n",
              "      <td>1804725</td>\n",
              "      <td>794144</td>\n",
              "      <td>2527779</td>\n",
              "      <td>651844</td>\n",
              "      <td>946139</td>\n",
              "      <td>2454143</td>\n",
              "      <td>905807</td>\n",
              "      <td>562373</td>\n",
              "      <td>3317966</td>\n",
              "      <td>5320343</td>\n",
              "      <td>980208</td>\n",
              "      <td>4170602</td>\n",
              "      <td>11187566</td>\n",
              "      <td>3121299</td>\n",
              "      <td>1742437</td>\n",
              "      <td>2633986</td>\n",
              "      <td>888047</td>\n",
              "      <td>1074008</td>\n",
              "      <td>1852394</td>\n",
              "      <td>910783</td>\n",
              "      <td>53132232</td>\n",
              "    </tr>\n",
              "    <tr>\n",
              "      <th>18</th>\n",
              "      <td>2018</td>\n",
              "      <td>554429</td>\n",
              "      <td>266548</td>\n",
              "      <td>1435823</td>\n",
              "      <td>237162</td>\n",
              "      <td>1994916</td>\n",
              "      <td>241570</td>\n",
              "      <td>469306</td>\n",
              "      <td>1808791</td>\n",
              "      <td>813143</td>\n",
              "      <td>2596746</td>\n",
              "      <td>773048</td>\n",
              "      <td>974210</td>\n",
              "      <td>2410864</td>\n",
              "      <td>926598</td>\n",
              "      <td>574293</td>\n",
              "      <td>3165767</td>\n",
              "      <td>5380265</td>\n",
              "      <td>1042704</td>\n",
              "      <td>3678944</td>\n",
              "      <td>11407247</td>\n",
              "      <td>3143311</td>\n",
              "      <td>1933449</td>\n",
              "      <td>2675382</td>\n",
              "      <td>900946</td>\n",
              "      <td>1053524</td>\n",
              "      <td>1764350</td>\n",
              "      <td>887622</td>\n",
              "      <td>53110958</td>\n",
              "    </tr>\n",
              "    <tr>\n",
              "      <th>19</th>\n",
              "      <td>2019</td>\n",
              "      <td>344707</td>\n",
              "      <td>183891</td>\n",
              "      <td>996366</td>\n",
              "      <td>146819</td>\n",
              "      <td>1299432</td>\n",
              "      <td>165800</td>\n",
              "      <td>337453</td>\n",
              "      <td>1123803</td>\n",
              "      <td>520133</td>\n",
              "      <td>1559778</td>\n",
              "      <td>427102</td>\n",
              "      <td>608801</td>\n",
              "      <td>1536040</td>\n",
              "      <td>584861</td>\n",
              "      <td>375131</td>\n",
              "      <td>1933369</td>\n",
              "      <td>3396051</td>\n",
              "      <td>697564</td>\n",
              "      <td>1506798</td>\n",
              "      <td>7249108</td>\n",
              "      <td>2226662</td>\n",
              "      <td>1436410</td>\n",
              "      <td>1829584</td>\n",
              "      <td>569408</td>\n",
              "      <td>657632</td>\n",
              "      <td>1139751</td>\n",
              "      <td>609503</td>\n",
              "      <td>33461957</td>\n",
              "    </tr>\n",
              "  </tbody>\n",
              "</table>\n",
              "</div>"
            ],
            "text/plain": [
              "     Ano      RO      AC       AM  ...       MT       GO       DF     Total\n",
              "0   2000  595405  245193  1198384  ...  1091090  2040674   820415  67270520\n",
              "1   2001  634672  281863  1327220  ...  1089117  2069557   798164  69655072\n",
              "2   2002  603409  309201  1360736  ...  1056545  2055137   760178  66135589\n",
              "3   2003  567875  300787  1270370  ...  1014615  1978045   776852  63525217\n",
              "4   2004  732052  378766  1581187  ...  1286775  2634225   985282  79342932\n",
              "5   2005  698279  353552  1613814  ...  1266069  2339329   954613  74720359\n",
              "6   2006  702254  349014  1685221  ...  1239094  2366568   989724  74923836\n",
              "7   2007  671022  386861  1704003  ...  1263603  2428428  1035290  75177841\n",
              "8   2008  670070  379638  1647149  ...  1225930  2322350  1000883  72922335\n",
              "9   2009  681503  390602  1703841  ...  1232897  2351035  1002519  74411131\n",
              "10  2010  647582  375827  1658753  ...  1151191  2274623   977874  73202221\n",
              "11  2011  435345  257132  1090240  ...   762483  1515006   582929  44640471\n",
              "12  2012  427785  240469  1149204  ...   754284  1375687   615304  42720182\n",
              "13  2013  487788  240916  1173912  ...   882673  1637161   858143  49110580\n",
              "14  2014  664623  254867  1546920  ...  1204418  2068419  1000131  63842324\n",
              "15  2015  692060  294119  1721877  ...  1218562  2012864   732494  63025044\n",
              "16  2016  619782  259444  1404249  ...  1117107  1808414  1331740  53191124\n",
              "17  2017  580329  265563  1412102  ...  1074008  1852394   910783  53132232\n",
              "18  2018  554429  266548  1435823  ...  1053524  1764350   887622  53110958\n",
              "19  2019  344707  183891   996366  ...   657632  1139751   609503  33461957\n",
              "\n",
              "[20 rows x 29 columns]"
            ]
          },
          "metadata": {},
          "execution_count": 2
        }
      ]
    },
    {
      "cell_type": "code",
      "metadata": {
        "id": "ebMjaJarbcmp"
      },
      "source": [
        "dados.drop('Total', axis=1, inplace=True)"
      ],
      "execution_count": 3,
      "outputs": []
    },
    {
      "cell_type": "code",
      "metadata": {
        "colab": {
          "base_uri": "https://localhost:8080/",
          "height": 331
        },
        "id": "NjkiB4JXe0wu",
        "outputId": "8346cc5f-651c-4f72-a78e-8e0b318b1e02"
      },
      "source": [
        "dados.plot(x='Ano', y=[\"RJ\", \"SP\", \"ES\", \"MG\"], kind=\"bar\")\n",
        "plt.title(\"Sudeste\", fontsize=15)\n"
      ],
      "execution_count": 4,
      "outputs": [
        {
          "output_type": "execute_result",
          "data": {
            "text/plain": [
              "Text(0.5, 1.0, 'Sudeste')"
            ]
          },
          "metadata": {},
          "execution_count": 4
        },
        {
          "output_type": "display_data",
          "data": {
            "image/png": "[encoded data removed]",
            "text/plain": [
              "<Figure size 432x288 with 1 Axes>"
            ]
          },
          "metadata": {
            "needs_background": "light"
          }
        }
      ]
    },
    {
      "cell_type": "code",
      "metadata": {
        "colab": {
          "base_uri": "https://localhost:8080/",
          "height": 331
        },
        "id": "9gzonAn0fBRy",
        "outputId": "77a5f5ac-7e9c-41e7-bf53-013898c416bb"
      },
      "source": [
        "dados.plot(x='Ano', y=[\"RJ\", \"SP\", \"ES\", \"MG\"], kind=\"bar\")\n",
        "plt.title(\"Sul\", fontsize=15)"
      ],
      "execution_count": 5,
      "outputs": [
        {
          "output_type": "execute_result",
          "data": {
            "text/plain": [
              "Text(0.5, 1.0, 'Sul')"
            ]
          },
          "metadata": {},
          "execution_count": 5
        },
        {
          "output_type": "display_data",
          "data": {
            "image/png": "[encoded data removed]",
            "text/plain": [
              "<Figure size 432x288 with 1 Axes>"
            ]
          },
          "metadata": {
            "needs_background": "light"
          }
        }
      ]
    },
    {
      "cell_type": "code",
      "metadata": {
        "colab": {
          "base_uri": "https://localhost:8080/",
          "height": 331
        },
        "id": "EbBQYlA2fB7C",
        "outputId": "737c7b0e-157a-4001-eee7-2c0623a9bacb"
      },
      "source": [
        "dados.plot(x='Ano', y=['AC', 'AP', 'AM', 'PA', 'RO', 'RR', 'TO'], kind=\"bar\")\n",
        "plt.title(\"Norte\", fontsize=15)"
      ],
      "execution_count": 6,
      "outputs": [
        {
          "output_type": "execute_result",
          "data": {
            "text/plain": [
              "Text(0.5, 1.0, 'Norte')"
            ]
          },
          "metadata": {},
          "execution_count": 6
        },
        {
          "output_type": "display_data",
          "data": {
            "image/png": "[encoded data removed]",
            "text/plain": [
              "<Figure size 432x288 with 1 Axes>"
            ]
          },
          "metadata": {
            "needs_background": "light"
          }
        }
      ]
    },
    {
      "cell_type": "code",
      "metadata": {
        "colab": {
          "base_uri": "https://localhost:8080/",
          "height": 331
        },
        "id": "TjWGPEbPfDSi",
        "outputId": "eb6d91d3-d507-47b4-e1df-4fcb7b9ca55f"
      },
      "source": [
        "dados.plot(x='Ano', y=['PR', 'SC', 'RS'], kind=\"bar\")\n",
        "plt.title(\"Sul\", fontsize=15)"
      ],
      "execution_count": 7,
      "outputs": [
        {
          "output_type": "execute_result",
          "data": {
            "text/plain": [
              "Text(0.5, 1.0, 'Sul')"
            ]
          },
          "metadata": {},
          "execution_count": 7
        },
        {
          "output_type": "display_data",
          "data": {
            "image/png": "[encoded data removed]",
            "text/plain": [
              "<Figure size 432x288 with 1 Axes>"
            ]
          },
          "metadata": {
            "needs_background": "light"
          }
        }
      ]
    },
    {
      "cell_type": "code",
      "metadata": {
        "colab": {
          "base_uri": "https://localhost:8080/",
          "height": 331
        },
        "id": "kYiQDxfcfCf7",
        "outputId": "77b423a7-0a80-44b6-c02b-2ac056f43b88"
      },
      "source": [
        "dados.plot(x='Ano', y=['DF', 'GO', 'MT', 'MS'], kind=\"bar\")\n",
        "plt.title(\"Centro Oeste\", fontsize=15)"
      ],
      "execution_count": 8,
      "outputs": [
        {
          "output_type": "execute_result",
          "data": {
            "text/plain": [
              "Text(0.5, 1.0, 'Centro Oeste')"
            ]
          },
          "metadata": {},
          "execution_count": 8
        },
        {
          "output_type": "display_data",
          "data": {
            "image/png": "[encoded data removed]",
            "text/plain": [
              "<Figure size 432x288 with 1 Axes>"
            ]
          },
          "metadata": {
            "needs_background": "light"
          }
        }
      ]
    },
    {
      "cell_type": "code",
      "metadata": {
        "colab": {
          "base_uri": "https://localhost:8080/",
          "height": 331
        },
        "id": "St_AUbiifa6X",
        "outputId": "bd0d83f3-a764-4fa9-c6b5-6a3f6e972a9e"
      },
      "source": [
        "dados.plot(x='Ano', y=['AL', 'BA', 'CE', 'MA', 'PB', 'PE', 'PI', 'RN', 'SE'], kind=\"bar\")\n",
        "plt.title(\"Nordeste\", fontsize=15)"
      ],
      "execution_count": 9,
      "outputs": [
        {
          "output_type": "execute_result",
          "data": {
            "text/plain": [
              "Text(0.5, 1.0, 'Nordeste')"
            ]
          },
          "metadata": {},
          "execution_count": 9
        },
        {
          "output_type": "display_data",
          "data": {
            "image/png": "[encoded data removed]",
            "text/plain": [
              "<Figure size 432x288 with 1 Axes>"
            ]
          },
          "metadata": {
            "needs_background": "light"
          }
        }
      ]
    },
    {
      "cell_type": "code",
      "metadata": {
        "id": "qJSFERrAXix4"
      },
      "source": [
        "dados.set_index('Ano', inplace=True)"
      ],
      "execution_count": 10,
      "outputs": []
    },
    {
      "cell_type": "code",
      "metadata": {
        "colab": {
          "base_uri": "https://localhost:8080/",
          "height": 237
        },
        "id": "AceXv4BqhfVB",
        "outputId": "ee6ca1b1-45fb-4af3-d06c-58391b90371b"
      },
      "source": [
        "dados.head()"
      ],
      "execution_count": 11,
      "outputs": [
        {
          "output_type": "execute_result",
          "data": {
            "text/html": [
              "<div>\n",
              "<style scoped>\n",
              "    .dataframe tbody tr th:only-of-type {\n",
              "        vertical-align: middle;\n",
              "    }\n",
              "\n",
              "    .dataframe tbody tr th {\n",
              "        vertical-align: top;\n",
              "    }\n",
              "\n",
              "    .dataframe thead th {\n",
              "        text-align: right;\n",
              "    }\n",
              "</style>\n",
              "<table border=\"1\" class=\"dataframe\">\n",
              "  <thead>\n",
              "    <tr style=\"text-align: right;\">\n",
              "      <th></th>\n",
              "      <th>RO</th>\n",
              "      <th>AC</th>\n",
              "      <th>AM</th>\n",
              "      <th>RR</th>\n",
              "      <th>PA</th>\n",
              "      <th>AP</th>\n",
              "      <th>TO</th>\n",
              "      <th>MA</th>\n",
              "      <th>PI</th>\n",
              "      <th>CE</th>\n",
              "      <th>RN</th>\n",
              "      <th>PB</th>\n",
              "      <th>PE</th>\n",
              "      <th>AL</th>\n",
              "      <th>SE</th>\n",
              "      <th>BA</th>\n",
              "      <th>MG</th>\n",
              "      <th>ES</th>\n",
              "      <th>RJ</th>\n",
              "      <th>SP</th>\n",
              "      <th>PR</th>\n",
              "      <th>SC</th>\n",
              "      <th>RS</th>\n",
              "      <th>MS</th>\n",
              "      <th>MT</th>\n",
              "      <th>GO</th>\n",
              "      <th>DF</th>\n",
              "    </tr>\n",
              "    <tr>\n",
              "      <th>Ano</th>\n",
              "      <th></th>\n",
              "      <th></th>\n",
              "      <th></th>\n",
              "      <th></th>\n",
              "      <th></th>\n",
              "      <th></th>\n",
              "      <th></th>\n",
              "      <th></th>\n",
              "      <th></th>\n",
              "      <th></th>\n",
              "      <th></th>\n",
              "      <th></th>\n",
              "      <th></th>\n",
              "      <th></th>\n",
              "      <th></th>\n",
              "      <th></th>\n",
              "      <th></th>\n",
              "      <th></th>\n",
              "      <th></th>\n",
              "      <th></th>\n",
              "      <th></th>\n",
              "      <th></th>\n",
              "      <th></th>\n",
              "      <th></th>\n",
              "      <th></th>\n",
              "      <th></th>\n",
              "      <th></th>\n",
              "    </tr>\n",
              "  </thead>\n",
              "  <tbody>\n",
              "    <tr>\n",
              "      <th>2000</th>\n",
              "      <td>595405</td>\n",
              "      <td>245193</td>\n",
              "      <td>1198384</td>\n",
              "      <td>187080</td>\n",
              "      <td>2886309</td>\n",
              "      <td>232258</td>\n",
              "      <td>557200</td>\n",
              "      <td>2453795</td>\n",
              "      <td>1208893</td>\n",
              "      <td>3403095</td>\n",
              "      <td>1048720</td>\n",
              "      <td>1381868</td>\n",
              "      <td>3297620</td>\n",
              "      <td>1196604</td>\n",
              "      <td>796246</td>\n",
              "      <td>5131168</td>\n",
              "      <td>6961244</td>\n",
              "      <td>1214667</td>\n",
              "      <td>5385808</td>\n",
              "      <td>13842017</td>\n",
              "      <td>3750742</td>\n",
              "      <td>1908182</td>\n",
              "      <td>3539671</td>\n",
              "      <td>896172</td>\n",
              "      <td>1091090</td>\n",
              "      <td>2040674</td>\n",
              "      <td>820415</td>\n",
              "    </tr>\n",
              "    <tr>\n",
              "      <th>2001</th>\n",
              "      <td>634672</td>\n",
              "      <td>281863</td>\n",
              "      <td>1327220</td>\n",
              "      <td>162704</td>\n",
              "      <td>3182573</td>\n",
              "      <td>342676</td>\n",
              "      <td>591184</td>\n",
              "      <td>2754985</td>\n",
              "      <td>1260538</td>\n",
              "      <td>3464853</td>\n",
              "      <td>1074655</td>\n",
              "      <td>1463207</td>\n",
              "      <td>3308789</td>\n",
              "      <td>1247844</td>\n",
              "      <td>804610</td>\n",
              "      <td>5641897</td>\n",
              "      <td>7888036</td>\n",
              "      <td>1233262</td>\n",
              "      <td>5263389</td>\n",
              "      <td>13526097</td>\n",
              "      <td>3771473</td>\n",
              "      <td>1929301</td>\n",
              "      <td>3605219</td>\n",
              "      <td>937187</td>\n",
              "      <td>1089117</td>\n",
              "      <td>2069557</td>\n",
              "      <td>798164</td>\n",
              "    </tr>\n",
              "    <tr>\n",
              "      <th>2002</th>\n",
              "      <td>603409</td>\n",
              "      <td>309201</td>\n",
              "      <td>1360736</td>\n",
              "      <td>171102</td>\n",
              "      <td>3209151</td>\n",
              "      <td>256112</td>\n",
              "      <td>557207</td>\n",
              "      <td>2714036</td>\n",
              "      <td>1247873</td>\n",
              "      <td>3335843</td>\n",
              "      <td>1068538</td>\n",
              "      <td>1404985</td>\n",
              "      <td>3296188</td>\n",
              "      <td>1287595</td>\n",
              "      <td>774545</td>\n",
              "      <td>5316305</td>\n",
              "      <td>6637190</td>\n",
              "      <td>1176631</td>\n",
              "      <td>5118198</td>\n",
              "      <td>12763696</td>\n",
              "      <td>3547068</td>\n",
              "      <td>1808394</td>\n",
              "      <td>3443527</td>\n",
              "      <td>856199</td>\n",
              "      <td>1056545</td>\n",
              "      <td>2055137</td>\n",
              "      <td>760178</td>\n",
              "    </tr>\n",
              "    <tr>\n",
              "      <th>2003</th>\n",
              "      <td>567875</td>\n",
              "      <td>300787</td>\n",
              "      <td>1270370</td>\n",
              "      <td>168107</td>\n",
              "      <td>3183958</td>\n",
              "      <td>263949</td>\n",
              "      <td>529390</td>\n",
              "      <td>2698158</td>\n",
              "      <td>1175552</td>\n",
              "      <td>3134287</td>\n",
              "      <td>1044353</td>\n",
              "      <td>1320266</td>\n",
              "      <td>3220240</td>\n",
              "      <td>1217980</td>\n",
              "      <td>744964</td>\n",
              "      <td>5128938</td>\n",
              "      <td>6206032</td>\n",
              "      <td>1155743</td>\n",
              "      <td>4888554</td>\n",
              "      <td>12355211</td>\n",
              "      <td>3317332</td>\n",
              "      <td>1767949</td>\n",
              "      <td>3280867</td>\n",
              "      <td>814843</td>\n",
              "      <td>1014615</td>\n",
              "      <td>1978045</td>\n",
              "      <td>776852</td>\n",
              "    </tr>\n",
              "    <tr>\n",
              "      <th>2004</th>\n",
              "      <td>732052</td>\n",
              "      <td>378766</td>\n",
              "      <td>1581187</td>\n",
              "      <td>220949</td>\n",
              "      <td>4313926</td>\n",
              "      <td>342556</td>\n",
              "      <td>641107</td>\n",
              "      <td>3305897</td>\n",
              "      <td>1494494</td>\n",
              "      <td>3773711</td>\n",
              "      <td>1312706</td>\n",
              "      <td>1667647</td>\n",
              "      <td>3926773</td>\n",
              "      <td>1700397</td>\n",
              "      <td>897079</td>\n",
              "      <td>7135200</td>\n",
              "      <td>7495444</td>\n",
              "      <td>1412016</td>\n",
              "      <td>5935843</td>\n",
              "      <td>14952220</td>\n",
              "      <td>4267323</td>\n",
              "      <td>2101818</td>\n",
              "      <td>3875775</td>\n",
              "      <td>971764</td>\n",
              "      <td>1286775</td>\n",
              "      <td>2634225</td>\n",
              "      <td>985282</td>\n",
              "    </tr>\n",
              "  </tbody>\n",
              "</table>\n",
              "</div>"
            ],
            "text/plain": [
              "          RO      AC       AM      RR  ...      MS       MT       GO      DF\n",
              "Ano                                    ...                                  \n",
              "2000  595405  245193  1198384  187080  ...  896172  1091090  2040674  820415\n",
              "2001  634672  281863  1327220  162704  ...  937187  1089117  2069557  798164\n",
              "2002  603409  309201  1360736  171102  ...  856199  1056545  2055137  760178\n",
              "2003  567875  300787  1270370  168107  ...  814843  1014615  1978045  776852\n",
              "2004  732052  378766  1581187  220949  ...  971764  1286775  2634225  985282\n",
              "\n",
              "[5 rows x 27 columns]"
            ]
          },
          "metadata": {},
          "execution_count": 11
        }
      ]
    },
    {
      "cell_type": "code",
      "metadata": {
        "id": "IhdWVSWChyeH"
      },
      "source": [
        "#população por estado\n",
        "sph = 46649132\n",
        "mgh = 21411923\n",
        "rjh = 17463349\n",
        "bah = 14985284\n",
        "prh = 11597484\n",
        "rsh = 11466630\t\n",
        "peh = 9674793\t\n",
        "ceh = 9240580\n",
        "pah = 8777124\t\n",
        "sch = 7338473\t\n",
        "goh = 7206589\t\n",
        "mah = 7153262\n",
        "amh = 4269995\t\n",
        "esh = 4108508\n",
        "pbh = 4059905\n",
        "mth = 3567234\t\n",
        "rnh = 3560903\t\n",
        "alh = 3365351\t\n",
        "pih = 3289290\n",
        "dfh = 3094325\t\n",
        "msh = 2839188\n",
        "seh = 2338474\n",
        "roh = 1815278\n",
        "toh = 1607363\n",
        "ach = 906876\n",
        "aph = 877613\n",
        "rrh = 652713\n",
        "\n",
        "#populacao por regiao\n",
        "sudesteh = 89632912\n",
        "nordesteh = 57667842\t\n",
        "sulh = 30402587\t\n",
        "norteh = 18906962\t\n",
        "centrooesteh = 16707336\t\n"
      ],
      "execution_count": 13,
      "outputs": []
    },
    {
      "cell_type": "code",
      "metadata": {
        "id": "yKRvDYfF8XAm"
      },
      "source": [
        "#criei variáveis para as regiões\n",
        "sudeste = dados[['RJ', 'SP', 'MG', 'ES']]\n",
        "norte = dados[['AC', 'AP', 'AM', 'PA', 'RO', 'RR', 'TO']]\n",
        "sul = dados[['PR', 'SC', 'RS']]\n",
        "nordeste = dados[['AL', 'BA', 'CE', 'MA', 'PB', 'PE', 'PI', 'RN', 'SE']]\n",
        "centrooeste = dados[['DF', 'GO', 'MT', 'MS']]"
      ],
      "execution_count": 14,
      "outputs": []
    },
    {
      "cell_type": "code",
      "metadata": {
        "id": "WCXqyJMLVOQ4"
      },
      "source": [
        "#variáveis de vacinação por tamanho da população\n",
        "rel_RO = dados[\"RO\"]/ roh\n",
        "rel_AC = dados[\"AC\"]/ ach\n",
        "rel_AM = dados[\"AM\"]/ amh\n",
        "rel_RR = dados[\"RR\"]/ rrh\n",
        "rel_PA = dados[\"PA\"]/ pah\n",
        "rel_AP = dados[\"AP\"]/ aph\n",
        "rel_TO = dados[\"TO\"]/ toh\n",
        "rel_MA = dados[\"MA\"]/ mah\n",
        "rel_PI = dados[\"PI\"]/ pih\n",
        "rel_CE = dados[\"CE\"]/ ceh\n",
        "rel_RN = dados[\"RN\"]/ rnh\n",
        "rel_PB = dados[\"PB\"]/ pbh\n",
        "rel_PE = dados[\"PE\"]/ peh\n",
        "rel_AL = dados[\"AL\"]/ alh\n",
        "rel_SE = dados[\"SE\"]/ seh\n",
        "rel_BA = dados[\"BA\"]/ bah\n",
        "rel_MG = dados[\"MG\"]/ mgh\n",
        "rel_ES = dados[\"ES\"]/ esh\n",
        "rel_RJ = dados[\"RJ\"]/ rjh\n",
        "rel_SP = dados[\"SP\"]/ sph\n",
        "rel_PR = dados[\"PR\"]/ prh\n",
        "rel_SC = dados[\"SC\"]/ sch\n",
        "rel_RS = dados[\"RS\"]/ rsh\n",
        "rel_MS = dados[\"MS\"]/ msh\n",
        "rel_MT = dados[\"MT\"]/ mth\n",
        "rel_GO = dados[\"GO\"]/ goh\n",
        "rel_DF = dados[\"DF\"]/ dfh\n"
      ],
      "execution_count": 15,
      "outputs": []
    },
    {
      "cell_type": "code",
      "metadata": {
        "id": "srAZyEkzIoQR"
      },
      "source": [
        "rel_RO = pd.DataFrame(rel_RO)\n",
        "rel_AC = pd.DataFrame(rel_AC)\n",
        "rel_AM = pd.DataFrame(rel_AM)\n",
        "rel_RR = pd.DataFrame(rel_RR)\n",
        "rel_PA = pd.DataFrame(rel_PA)\n",
        "rel_AP = pd.DataFrame(rel_AP)\n",
        "rel_TO = pd.DataFrame(rel_TO)\n",
        "rel_MA = pd.DataFrame(rel_MA)\n",
        "rel_PI = pd.DataFrame(rel_PI)\n",
        "rel_CE = pd.DataFrame(rel_CE)\n",
        "rel_RN = pd.DataFrame(rel_RN)\n",
        "rel_PB = pd.DataFrame(rel_PB)\n",
        "rel_PE = pd.DataFrame(rel_PE)\n",
        "rel_AL = pd.DataFrame(rel_AL)\n",
        "rel_SE = pd.DataFrame(rel_SE)\n",
        "rel_BA = pd.DataFrame(rel_BA)\n",
        "rel_MG = pd.DataFrame(rel_MG)\n",
        "rel_ES = pd.DataFrame(rel_ES)\n",
        "rel_RJ = pd.DataFrame(rel_RJ)\n",
        "rel_SP = pd.DataFrame(rel_SP)\n",
        "rel_PR = pd.DataFrame(rel_PR)\n",
        "rel_SC = pd.DataFrame(rel_SC)\n",
        "rel_RS = pd.DataFrame(rel_RS)\n",
        "rel_MS = pd.DataFrame(rel_MS)\n",
        "rel_MT = pd.DataFrame(rel_MT)\n",
        "rel_GO = pd.DataFrame(rel_GO)\n",
        "rel_DF = pd.DataFrame(rel_DF)"
      ],
      "execution_count": 16,
      "outputs": []
    },
    {
      "cell_type": "code",
      "metadata": {
        "id": "TiXGUSzgXKqA"
      },
      "source": [
        "#formula pra botar o valor do barplot no topo da barra\n",
        "\n",
        "# plot = sns.barplot(data=df2, x=''col1', y='col2',ci=false)\n",
        "# for i in plot.patches:\n",
        "#     plot.annotate(i.get_height(),\n",
        "#                   (i.get_x()+i.get_width()/2, i.get_height()),\n",
        "#                   ha='center', va='baseline', fontsize=12,\n",
        "#                   color='black', xytext=(0,1),\n",
        "#                   textcoords='offset points')"
      ],
      "execution_count": 17,
      "outputs": []
    },
    {
      "cell_type": "code",
      "metadata": {
        "colab": {
          "base_uri": "https://localhost:8080/",
          "height": 707
        },
        "id": "W4PLEEY03Dqt",
        "outputId": "fed4ea15-58c4-44f4-af63-daf44e6c3475"
      },
      "source": [
        "rel_DF"
      ],
      "execution_count": 18,
      "outputs": [
        {
          "output_type": "execute_result",
          "data": {
            "text/html": [
              "<div>\n",
              "<style scoped>\n",
              "    .dataframe tbody tr th:only-of-type {\n",
              "        vertical-align: middle;\n",
              "    }\n",
              "\n",
              "    .dataframe tbody tr th {\n",
              "        vertical-align: top;\n",
              "    }\n",
              "\n",
              "    .dataframe thead th {\n",
              "        text-align: right;\n",
              "    }\n",
              "</style>\n",
              "<table border=\"1\" class=\"dataframe\">\n",
              "  <thead>\n",
              "    <tr style=\"text-align: right;\">\n",
              "      <th></th>\n",
              "      <th>DF</th>\n",
              "    </tr>\n",
              "    <tr>\n",
              "      <th>Ano</th>\n",
              "      <th></th>\n",
              "    </tr>\n",
              "  </thead>\n",
              "  <tbody>\n",
              "    <tr>\n",
              "      <th>2000</th>\n",
              "      <td>0.265135</td>\n",
              "    </tr>\n",
              "    <tr>\n",
              "      <th>2001</th>\n",
              "      <td>0.257944</td>\n",
              "    </tr>\n",
              "    <tr>\n",
              "      <th>2002</th>\n",
              "      <td>0.245668</td>\n",
              "    </tr>\n",
              "    <tr>\n",
              "      <th>2003</th>\n",
              "      <td>0.251057</td>\n",
              "    </tr>\n",
              "    <tr>\n",
              "      <th>2004</th>\n",
              "      <td>0.318416</td>\n",
              "    </tr>\n",
              "    <tr>\n",
              "      <th>2005</th>\n",
              "      <td>0.308504</td>\n",
              "    </tr>\n",
              "    <tr>\n",
              "      <th>2006</th>\n",
              "      <td>0.319851</td>\n",
              "    </tr>\n",
              "    <tr>\n",
              "      <th>2007</th>\n",
              "      <td>0.334577</td>\n",
              "    </tr>\n",
              "    <tr>\n",
              "      <th>2008</th>\n",
              "      <td>0.323458</td>\n",
              "    </tr>\n",
              "    <tr>\n",
              "      <th>2009</th>\n",
              "      <td>0.323986</td>\n",
              "    </tr>\n",
              "    <tr>\n",
              "      <th>2010</th>\n",
              "      <td>0.316022</td>\n",
              "    </tr>\n",
              "    <tr>\n",
              "      <th>2011</th>\n",
              "      <td>0.188386</td>\n",
              "    </tr>\n",
              "    <tr>\n",
              "      <th>2012</th>\n",
              "      <td>0.198849</td>\n",
              "    </tr>\n",
              "    <tr>\n",
              "      <th>2013</th>\n",
              "      <td>0.277328</td>\n",
              "    </tr>\n",
              "    <tr>\n",
              "      <th>2014</th>\n",
              "      <td>0.323215</td>\n",
              "    </tr>\n",
              "    <tr>\n",
              "      <th>2015</th>\n",
              "      <td>0.236722</td>\n",
              "    </tr>\n",
              "    <tr>\n",
              "      <th>2016</th>\n",
              "      <td>0.430381</td>\n",
              "    </tr>\n",
              "    <tr>\n",
              "      <th>2017</th>\n",
              "      <td>0.294340</td>\n",
              "    </tr>\n",
              "    <tr>\n",
              "      <th>2018</th>\n",
              "      <td>0.286855</td>\n",
              "    </tr>\n",
              "    <tr>\n",
              "      <th>2019</th>\n",
              "      <td>0.196974</td>\n",
              "    </tr>\n",
              "  </tbody>\n",
              "</table>\n",
              "</div>"
            ],
            "text/plain": [
              "            DF\n",
              "Ano           \n",
              "2000  0.265135\n",
              "2001  0.257944\n",
              "2002  0.245668\n",
              "2003  0.251057\n",
              "2004  0.318416\n",
              "2005  0.308504\n",
              "2006  0.319851\n",
              "2007  0.334577\n",
              "2008  0.323458\n",
              "2009  0.323986\n",
              "2010  0.316022\n",
              "2011  0.188386\n",
              "2012  0.198849\n",
              "2013  0.277328\n",
              "2014  0.323215\n",
              "2015  0.236722\n",
              "2016  0.430381\n",
              "2017  0.294340\n",
              "2018  0.286855\n",
              "2019  0.196974"
            ]
          },
          "metadata": {},
          "execution_count": 18
        }
      ]
    },
    {
      "cell_type": "code",
      "metadata": {
        "id": "QcN205FiLaPP"
      },
      "source": [
        "def color_palette_by_values(palette_name:str ,values: pd.Series):\n",
        "  return np.array(\n",
        "      sns.color_palette(palette_name, len(values))\n",
        "  )[values.argsort().argsort()]"
      ],
      "execution_count": 19,
      "outputs": []
    },
    {
      "cell_type": "code",
      "metadata": {
        "colab": {
          "base_uri": "https://localhost:8080/",
          "height": 297
        },
        "id": "6UXNO00NyTCj",
        "outputId": "89e07f2a-4bda-429b-e30d-522f0469136d"
      },
      "source": [
        "sns.barplot(data=rel_DF, x=rel_DF.index, y='DF', palette = color_palette_by_values(\"rocket_r\", rel_DF[\"DF\"]))"
      ],
      "execution_count": 20,
      "outputs": [
        {
          "output_type": "execute_result",
          "data": {
            "text/plain": [
              "<matplotlib.axes._subplots.AxesSubplot at 0x7fc6ea84c0d0>"
            ]
          },
          "metadata": {},
          "execution_count": 20
        },
        {
          "output_type": "display_data",
          "data": {
            "image/png": "[encoded data removed]",
            "text/plain": [
              "<Figure size 432x288 with 1 Axes>"
            ]
          },
          "metadata": {
            "needs_background": "light"
          }
        }
      ]
    },
    {
      "cell_type": "code",
      "metadata": {
        "id": "DI8c-UleyTvi"
      },
      "source": [
        "Xsudeste = [rel_RJ, rel_SP, rel_MG, rel_ES]\n",
        "# Xnorte = dados[['AC', 'AP', 'AM', 'PA', 'RO', 'RR', 'TO']]\n",
        "# Xsul = dados[['PR', 'SC', 'RS']]\n",
        "# Xnordeste = dados[['AL', 'BA', 'CE', 'MA', 'PB', 'PE', 'PI', 'RN', 'SE']]\n",
        "# Xcentrooeste = dados[['DF', 'GO', 'MT', 'MS']]"
      ],
      "execution_count": 21,
      "outputs": []
    },
    {
      "cell_type": "code",
      "metadata": {
        "colab": {
          "base_uri": "https://localhost:8080/",
          "height": 237
        },
        "id": "cRSSo4h74b0Q",
        "outputId": "fdc3e9a4-7d76-4c0f-e5d6-e1688cba1bc0"
      },
      "source": [
        "#usando o merge para juntar os dataframes das populacoes de cada estado em 1 df da regiao\n",
        "df_sudeste1 = pd.merge(rel_RJ, rel_SP, on='Ano', how='right')\n",
        "df_sudeste2 = pd.merge(df_sudeste1, rel_MG, on='Ano', how='right')\n",
        "df_sudeste_pop = pd.merge(df_sudeste2, rel_ES, on='Ano', how='right')\n",
        "df_sudeste_pop.head()"
      ],
      "execution_count": 22,
      "outputs": [
        {
          "output_type": "execute_result",
          "data": {
            "text/html": [
              "<div>\n",
              "<style scoped>\n",
              "    .dataframe tbody tr th:only-of-type {\n",
              "        vertical-align: middle;\n",
              "    }\n",
              "\n",
              "    .dataframe tbody tr th {\n",
              "        vertical-align: top;\n",
              "    }\n",
              "\n",
              "    .dataframe thead th {\n",
              "        text-align: right;\n",
              "    }\n",
              "</style>\n",
              "<table border=\"1\" class=\"dataframe\">\n",
              "  <thead>\n",
              "    <tr style=\"text-align: right;\">\n",
              "      <th></th>\n",
              "      <th>RJ</th>\n",
              "      <th>SP</th>\n",
              "      <th>MG</th>\n",
              "      <th>ES</th>\n",
              "    </tr>\n",
              "    <tr>\n",
              "      <th>Ano</th>\n",
              "      <th></th>\n",
              "      <th></th>\n",
              "      <th></th>\n",
              "      <th></th>\n",
              "    </tr>\n",
              "  </thead>\n",
              "  <tbody>\n",
              "    <tr>\n",
              "      <th>2000</th>\n",
              "      <td>0.308406</td>\n",
              "      <td>0.296726</td>\n",
              "      <td>0.325111</td>\n",
              "      <td>0.295647</td>\n",
              "    </tr>\n",
              "    <tr>\n",
              "      <th>2001</th>\n",
              "      <td>0.301396</td>\n",
              "      <td>0.289954</td>\n",
              "      <td>0.368395</td>\n",
              "      <td>0.300173</td>\n",
              "    </tr>\n",
              "    <tr>\n",
              "      <th>2002</th>\n",
              "      <td>0.293082</td>\n",
              "      <td>0.273611</td>\n",
              "      <td>0.309976</td>\n",
              "      <td>0.286389</td>\n",
              "    </tr>\n",
              "    <tr>\n",
              "      <th>2003</th>\n",
              "      <td>0.279932</td>\n",
              "      <td>0.264854</td>\n",
              "      <td>0.289840</td>\n",
              "      <td>0.281305</td>\n",
              "    </tr>\n",
              "    <tr>\n",
              "      <th>2004</th>\n",
              "      <td>0.339903</td>\n",
              "      <td>0.320525</td>\n",
              "      <td>0.350059</td>\n",
              "      <td>0.343681</td>\n",
              "    </tr>\n",
              "  </tbody>\n",
              "</table>\n",
              "</div>"
            ],
            "text/plain": [
              "            RJ        SP        MG        ES\n",
              "Ano                                         \n",
              "2000  0.308406  0.296726  0.325111  0.295647\n",
              "2001  0.301396  0.289954  0.368395  0.300173\n",
              "2002  0.293082  0.273611  0.309976  0.286389\n",
              "2003  0.279932  0.264854  0.289840  0.281305\n",
              "2004  0.339903  0.320525  0.350059  0.343681"
            ]
          },
          "metadata": {},
          "execution_count": 22
        }
      ]
    },
    {
      "cell_type": "code",
      "metadata": {
        "colab": {
          "base_uri": "https://localhost:8080/"
        },
        "id": "ozPCGJQcO-_T",
        "outputId": "a3ff0268-aca5-4502-da43-b46408caf3c1"
      },
      "source": [
        "df_sudeste_pop.mean()"
      ],
      "execution_count": 23,
      "outputs": [
        {
          "output_type": "execute_result",
          "data": {
            "text/plain": [
              "RJ    0.266545\n",
              "SP    0.268823\n",
              "MG    0.287090\n",
              "ES    0.278061\n",
              "dtype: float64"
            ]
          },
          "metadata": {},
          "execution_count": 23
        }
      ]
    },
    {
      "cell_type": "code",
      "metadata": {
        "colab": {
          "base_uri": "https://localhost:8080/",
          "height": 445
        },
        "id": "oU6tNgwI8Fzy",
        "outputId": "70113132-889b-4525-e75b-7f7aba86e28b"
      },
      "source": [
        "sns.set_style(\"ticks\") #escolhe o estilo como ticks\n",
        "plt.figure(figsize=(10,6))\n",
        "ax = sns.lineplot(data=df_sudeste_pop, x=df_sudeste_pop.index, y='RJ', palette = color_palette_by_values(\"rocket_r\", df_sudeste_pop['SP']))\n",
        "ax2 = sns.lineplot(data=df_sudeste_pop, x=df_sudeste_pop.index, y='SP', palette = color_palette_by_values(\"rocket_r\", df_sudeste_pop['SP']))\n",
        "ax3 = sns.lineplot(data=df_sudeste_pop, x=df_sudeste_pop.index, y='ES', palette = color_palette_by_values(\"rocket_r\", df_sudeste_pop['ES']))\n",
        "ax4 = sns.lineplot(data=df_sudeste_pop, x=df_sudeste_pop.index, y='MG', palette = color_palette_by_values(\"rocket_r\", df_sudeste_pop['MG']))\n",
        "plt.title(\"SUDESTE\", fontsize=15)\n",
        "plt.xticks(rotation=30)\n",
        "plt.grid(b = True, axis = 'y', ls = '-.')\n",
        "plt.grid(b = True, axis = 'x', ls = '-.')\n",
        "ax.set_ylabel('Relação de vacina por população', fontsize=15)\n",
        "ax.set_xlabel('Ano', fontsize=15)"
      ],
      "execution_count": 46,
      "outputs": [
        {
          "output_type": "execute_result",
          "data": {
            "text/plain": [
              "Text(0.5, 0, 'Ano')"
            ]
          },
          "metadata": {},
          "execution_count": 46
        },
        {
          "output_type": "display_data",
          "data": {
            "image/png": "[encoded data removed]",
            "text/plain": [
              "<Figure size 720x432 with 1 Axes>"
            ]
          },
          "metadata": {}
        }
      ]
    },
    {
      "cell_type": "code",
      "metadata": {
        "colab": {
          "base_uri": "https://localhost:8080/",
          "height": 297
        },
        "id": "DjoSdY3XZMfQ",
        "outputId": "a587ec33-f883-4f8f-aba4-2471adb8af6b"
      },
      "source": [
        "sns.lineplot(data=rel_RO, x=rel_RO.index, y='RO')"
      ],
      "execution_count": 29,
      "outputs": [
        {
          "output_type": "execute_result",
          "data": {
            "text/plain": [
              "<matplotlib.axes._subplots.AxesSubplot at 0x7fc6e8b2b3d0>"
            ]
          },
          "metadata": {},
          "execution_count": 29
        },
        {
          "output_type": "display_data",
          "data": {
            "image/png": "[encoded data removed]",
            "text/plain": [
              "<Figure size 432x288 with 1 Axes>"
            ]
          },
          "metadata": {
            "needs_background": "light"
          }
        }
      ]
    },
    {
      "cell_type": "code",
      "metadata": {
        "id": "nz23cUFdeIpm"
      },
      "source": [
        ""
      ],
      "execution_count": null,
      "outputs": []
    }
  ]
}