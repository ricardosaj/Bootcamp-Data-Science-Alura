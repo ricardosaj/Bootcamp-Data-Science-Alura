{
  "nbformat": 4,
  "nbformat_minor": 0,
  "metadata": {
    "colab": {
      "name": "CadernoDoSuperDesafioModulo01.ipynb",
      "provenance": [],
      "authorship_tag": "ABX9TyNdZD8ZcD43GTvq2zAfJjAw",
      "include_colab_link": true
    },
    "kernelspec": {
      "name": "python3",
      "display_name": "Python 3"
    },
    "language_info": {
      "name": "python"
    }
  },
  "cells": [
    {
      "cell_type": "markdown",
      "metadata": {
        "id": "view-in-github",
        "colab_type": "text"
      },
      "source": [
        "<a href=\"https://colab.research.google.com/github/ricardosaj/Bootcamp-Data-Science-Alura/blob/main/CadernoDoSuperDesafioModulo01.ipynb\" target=\"_parent\"><img src=\"https://colab.research.google.com/assets/colab-badge.svg\" alt=\"Open In Colab\"/></a>"
      ]
    },
    {
      "cell_type": "markdown",
      "metadata": {
        "id": "xHLj9p0gB3aG"
      },
      "source": [
        "**BOOTCAMP DE DATA SCIENCE DA ALURA 2022**\n",
        "\n",
        "***SUPER DESAFIO DO MÓDULO 01***\n",
        "\n",
        "*Minha proposta é criar uma correlação entre o valor gasto/mês em cada estado com o número óbitos desses estados. Essa avaliação sendo feita para o ano de 2020*\n",
        "\n",
        "*Retirei duas tabelas com essas informações do TABNET*"
      ]
    },
    {
      "cell_type": "code",
      "metadata": {
        "id": "CWQ8MbslC5_T"
      },
      "source": [
        "# Essa célula será para importar as bibliotecas que utilizaremos\n",
        "import pandas as pd\n",
        "import seaborn as sns\n",
        "import matplotlib.pyplot as plt"
      ],
      "execution_count": 1,
      "outputs": []
    },
    {
      "cell_type": "code",
      "metadata": {
        "colab": {
          "base_uri": "https://localhost:8080/",
          "height": 278
        },
        "id": "oWImIJB1ED0j",
        "outputId": "94f8f146-ae3e-48b2-db18-caef01471268"
      },
      "source": [
        "# Essa célula será para ler os arquivos .csv que temos e formatá-los\n",
        "gastosporestadoem2020 = pd.read_csv(\"/content/gastoporestadoem2020.csv\", encoding=\"ISO-8859-1\", skiprows= 3, sep = \";\" , skipfooter= 12, thousands=\".\", decimal=\",\")\n",
        "obitosporestadoem2020 = pd.read_csv(\"/content/obitosem2020.csv\", encoding=\"ISO-8859-1\", skiprows= 3, sep = \";\" , skipfooter= 12, thousands=\".\", decimal=\",\")\n",
        "obitosporestadoem2020.head()"
      ],
      "execution_count": 3,
      "outputs": [
        {
          "output_type": "stream",
          "name": "stderr",
          "text": [
            "/usr/local/lib/python3.7/dist-packages/ipykernel_launcher.py:2: ParserWarning: Falling back to the 'python' engine because the 'c' engine does not support skipfooter; you can avoid this warning by specifying engine='python'.\n",
            "  \n",
            "/usr/local/lib/python3.7/dist-packages/ipykernel_launcher.py:3: ParserWarning: Falling back to the 'python' engine because the 'c' engine does not support skipfooter; you can avoid this warning by specifying engine='python'.\n",
            "  This is separate from the ipykernel package so we can avoid doing imports until\n"
          ]
        },
        {
          "output_type": "execute_result",
          "data": {
            "text/html": [
              "<div>\n",
              "<style scoped>\n",
              "    .dataframe tbody tr th:only-of-type {\n",
              "        vertical-align: middle;\n",
              "    }\n",
              "\n",
              "    .dataframe tbody tr th {\n",
              "        vertical-align: top;\n",
              "    }\n",
              "\n",
              "    .dataframe thead th {\n",
              "        text-align: right;\n",
              "    }\n",
              "</style>\n",
              "<table border=\"1\" class=\"dataframe\">\n",
              "  <thead>\n",
              "    <tr style=\"text-align: right;\">\n",
              "      <th></th>\n",
              "      <th>Unidade da Federação</th>\n",
              "      <th>Janeiro</th>\n",
              "      <th>Fevereiro</th>\n",
              "      <th>Março</th>\n",
              "      <th>Abril</th>\n",
              "      <th>Maio</th>\n",
              "      <th>Junho</th>\n",
              "      <th>Julho</th>\n",
              "      <th>Agosto</th>\n",
              "      <th>Setembro</th>\n",
              "      <th>Outubro</th>\n",
              "      <th>Novembro</th>\n",
              "      <th>Dezembro</th>\n",
              "      <th>Total</th>\n",
              "    </tr>\n",
              "  </thead>\n",
              "  <tbody>\n",
              "    <tr>\n",
              "      <th>0</th>\n",
              "      <td>11 Rondônia</td>\n",
              "      <td>684</td>\n",
              "      <td>633</td>\n",
              "      <td>749</td>\n",
              "      <td>701</td>\n",
              "      <td>877</td>\n",
              "      <td>1109</td>\n",
              "      <td>1030</td>\n",
              "      <td>1026</td>\n",
              "      <td>898</td>\n",
              "      <td>848</td>\n",
              "      <td>753</td>\n",
              "      <td>976</td>\n",
              "      <td>10284</td>\n",
              "    </tr>\n",
              "    <tr>\n",
              "      <th>1</th>\n",
              "      <td>12 Acre</td>\n",
              "      <td>367</td>\n",
              "      <td>339</td>\n",
              "      <td>369</td>\n",
              "      <td>362</td>\n",
              "      <td>557</td>\n",
              "      <td>558</td>\n",
              "      <td>468</td>\n",
              "      <td>405</td>\n",
              "      <td>346</td>\n",
              "      <td>344</td>\n",
              "      <td>379</td>\n",
              "      <td>441</td>\n",
              "      <td>4935</td>\n",
              "    </tr>\n",
              "    <tr>\n",
              "      <th>2</th>\n",
              "      <td>13 Amazonas</td>\n",
              "      <td>1612</td>\n",
              "      <td>1501</td>\n",
              "      <td>1511</td>\n",
              "      <td>3759</td>\n",
              "      <td>3590</td>\n",
              "      <td>1880</td>\n",
              "      <td>1659</td>\n",
              "      <td>1645</td>\n",
              "      <td>1677</td>\n",
              "      <td>1800</td>\n",
              "      <td>1695</td>\n",
              "      <td>2097</td>\n",
              "      <td>24426</td>\n",
              "    </tr>\n",
              "    <tr>\n",
              "      <th>3</th>\n",
              "      <td>14 Roraima</td>\n",
              "      <td>259</td>\n",
              "      <td>199</td>\n",
              "      <td>254</td>\n",
              "      <td>218</td>\n",
              "      <td>403</td>\n",
              "      <td>597</td>\n",
              "      <td>360</td>\n",
              "      <td>250</td>\n",
              "      <td>211</td>\n",
              "      <td>219</td>\n",
              "      <td>281</td>\n",
              "      <td>265</td>\n",
              "      <td>3516</td>\n",
              "    </tr>\n",
              "    <tr>\n",
              "      <th>4</th>\n",
              "      <td>15 Pará</td>\n",
              "      <td>3416</td>\n",
              "      <td>3281</td>\n",
              "      <td>3869</td>\n",
              "      <td>5471</td>\n",
              "      <td>8392</td>\n",
              "      <td>4740</td>\n",
              "      <td>4075</td>\n",
              "      <td>3711</td>\n",
              "      <td>3549</td>\n",
              "      <td>3549</td>\n",
              "      <td>3425</td>\n",
              "      <td>3795</td>\n",
              "      <td>51273</td>\n",
              "    </tr>\n",
              "  </tbody>\n",
              "</table>\n",
              "</div>"
            ],
            "text/plain": [
              "  Unidade da Federação  Janeiro  Fevereiro  ...  Novembro  Dezembro  Total\n",
              "0          11 Rondônia      684        633  ...       753       976  10284\n",
              "1              12 Acre      367        339  ...       379       441   4935\n",
              "2          13 Amazonas     1612       1501  ...      1695      2097  24426\n",
              "3           14 Roraima      259        199  ...       281       265   3516\n",
              "4              15 Pará     3416       3281  ...      3425      3795  51273\n",
              "\n",
              "[5 rows x 14 columns]"
            ]
          },
          "metadata": {},
          "execution_count": 3
        }
      ]
    },
    {
      "cell_type": "code",
      "metadata": {
        "id": "LqE2oP_0EqU3"
      },
      "source": [
        ""
      ],
      "execution_count": null,
      "outputs": []
    }
  ]
}